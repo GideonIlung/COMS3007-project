{
 "cells": [
  {
   "cell_type": "code",
   "execution_count": 2,
   "metadata": {},
   "outputs": [],
   "source": [
    "import numpy as np\n",
    "import pandas as pd\n",
    "import random\n",
    "import matplotlib.pyplot as plt\n",
    "#import pixiedust"
   ]
  },
  {
   "cell_type": "markdown",
   "metadata": {},
   "source": [
    "# Algorithms"
   ]
  },
  {
   "cell_type": "markdown",
   "metadata": {},
   "source": [
    "# <center>Neural Network Class</center>"
   ]
  },
  {
   "cell_type": "code",
   "execution_count": 3,
   "metadata": {},
   "outputs": [],
   "source": [
    "class Layer:\n",
    "        \n",
    "        def __init__(self,inputs,neurons,activation,derivative):\n",
    "            \"\"\"\n",
    "                creates a layer in the Neural Network\n",
    "                \n",
    "                Inputs:\n",
    "                    inputs     : the number of nodes in previous layer\n",
    "                    neurons    : the number of neurons in current layer\n",
    "                    activation : the activation function to be used\n",
    "            \"\"\"\n",
    "            \n",
    "            #Weight matrix\n",
    "            self.W = np.random.randn(neurons,inputs+1)\n",
    "            \n",
    "            #Bias\n",
    "            #self.b = np.zeros((neurons,1))\n",
    "            \n",
    "            #activation function\n",
    "            self.act = activation\n",
    "            \n",
    "            #derivative function\n",
    "            self.div = derivative\n",
    "            \n",
    "        \n",
    "        def feedFoward(self,A_prev):\n",
    "            \n",
    "            \"\"\"\n",
    "                computes the output of current layer\n",
    "                \n",
    "                Inputs:\n",
    "                    A_prev : outputs from the previous layer\n",
    "                    \n",
    "                Outputs:\n",
    "                    A      : output from current Layer\n",
    "            \"\"\"\n",
    "            m,n = A_prev.shape\n",
    "            self.A_prev = A_prev\n",
    "            \n",
    "            \n",
    "            ones = np.ones((1,n))\n",
    "            temp = np.vstack([ones,A_prev])\n",
    "            \n",
    "    \n",
    "            self.Z = self.W @ temp\n",
    "            self.A = self.act(self.Z)\n",
    "            \n",
    "            return self.A\n",
    "        \n",
    "        \n",
    "        def backprop(self,dA,alpha):\n",
    "            \n",
    "            \"\"\"\n",
    "                calculates the derivatives at the current layer\n",
    "            \"\"\"\n",
    "            \n",
    "            #learning rate\n",
    "            \n",
    "            \n",
    "            \n",
    "            div_term = self.div(self.A_prev)\n",
    "            dA_prev = (self.W.T[1:] @ dA) * div_term\n",
    "           \n",
    "            return dA_prev\n",
    "        \n",
    "        \n",
    "        \n",
    "        def set_weights(self,W):\n",
    "            self.W = W\n",
    "        \n",
    "\n",
    "\n",
    "\n",
    "\n",
    "class Neural_Network:\n",
    "    \n",
    "    def __init__(self,param,func,deriv):\n",
    "        \n",
    "        \"\"\"\n",
    "            Initialises NN\n",
    "            \n",
    "            Inputs:\n",
    "                param : the dimensions of the NN\n",
    "                func  : the activation function that will be used\n",
    "                deriv : derivative of func\n",
    "        \"\"\"\n",
    "        \n",
    "        \n",
    "        #ATTRIBUTES\n",
    "        \n",
    "        #number of layers\n",
    "        self.s = len(param)\n",
    "        \n",
    "        #the activation function\n",
    "        self.func = func\n",
    "        \n",
    "        #the derivative of activation function\n",
    "        self.deriv = deriv\n",
    "        \n",
    "        #creating layers#\n",
    "        self.Layers = []\n",
    "        \n",
    "        \n",
    "        #deltas#\n",
    "        self.delta = []\n",
    "        \n",
    "        #A values#\n",
    "        self.A_list = []\n",
    "        \n",
    "        for i in range(1,len(param),1):\n",
    "            \n",
    "            temp = Layer(param[i-1],param[i],self.func,self.deriv)\n",
    "            self.Layers.append(temp)\n",
    "        \n",
    "        \n",
    "        \n",
    "    def predict(self,X):\n",
    "        \n",
    "        \"\"\"\n",
    "            Makes prediction off the dataset given\n",
    "        \"\"\"\n",
    "        \n",
    "        A = X.T\n",
    "        self.A_list = [A]\n",
    "        \n",
    "        for layer in self.Layers:\n",
    "            A = layer.feedFoward(A)\n",
    "            self.A_list.append(A)\n",
    "        \n",
    "        #print(self.A_list)\n",
    "        return A\n",
    "        \n",
    "        \n",
    "    def train(self,X,y,alpha,epoch):\n",
    "        \n",
    "        for j in range(epoch):\n",
    "            A = self.predict(X)\n",
    "        \n",
    "            dA = A - y\n",
    "\n",
    "            self.delta = [dA]\n",
    "\n",
    "            \n",
    "            #calculating delta errors\n",
    "            for i in range(len(self.Layers)-1,0,-1):\n",
    "\n",
    "                dA = self.Layers[i].backprop(dA,alpha)\n",
    "                self.delta.insert(0,dA)\n",
    "\n",
    "\n",
    "            #getting update matrices\n",
    "            up_D  = self.Deltas()\n",
    "            \n",
    "            i = 0\n",
    "            \n",
    "            for layer in self.Layers:\n",
    "                #TODO: Regularise here\n",
    "                wNew = (alpha* 1/len(y)) * up_D[i]\n",
    "                layer.W = layer.W - wNew\n",
    "                i+=1\n",
    "\n",
    "    \n",
    "    def Deltas(self):\n",
    "        \n",
    "        upper_D = []\n",
    "        \n",
    "        for i in range(0,len(self.delta),1):\n",
    "                     \n",
    "            m,n = self.A_list[i].shape\n",
    "            ones = np.ones((1,n))\n",
    "            aValue = np.vstack([ones,self.A_list[i]])\n",
    "            \n",
    "            \n",
    "            temp = self.delta[i] @ aValue.T\n",
    "            upper_D.append(temp)\n",
    "    \n",
    "        return upper_D\n",
    "    \n",
    "    \n",
    "    def setWeights(self,W,index):\n",
    "        \n",
    "        self.Layers[index].set_weights(W)\n",
    "          "
   ]
  },
  {
   "cell_type": "markdown",
   "metadata": {},
   "source": [
    "# <center>Logistic Model</center>\n",
    "\n",
    "# Logistic Regression\n",
    "\n",
    "using the definition of dot product, logistic regression can be simplified to this expression:\n",
    "$$\\theta = \\theta - \\frac{\\alpha}{m}(h(\\theta X^{T}) - y) \\cdot X^{T} + \\lambda \\theta$$\n",
    "\n",
    "where:\n",
    "\n",
    "$\\alpha$ : the learning rate\n",
    "\n",
    "$m$ : the number of features\n",
    "\n",
    "$\\theta$ : the initial learning parameters\n",
    "\n",
    "$X$ : the data given in the design matrix format\n",
    "\n",
    "$\\lambda$ : the regularisation term\n",
    "\n",
    "$h(\\theta X^{T})$ : "
   ]
  },
  {
   "cell_type": "code",
   "execution_count": 4,
   "metadata": {},
   "outputs": [],
   "source": [
    "def LogisticRegression(X,y,theta0,alpha,tol,L,num_iter):\n",
    "    \"\"\"\n",
    "        computes theta values using the psuedo inverse\n",
    "        \n",
    "        inputs:\n",
    "            X        : data in the form of the design matrix\n",
    "            y        : the labels associated with the data\n",
    "            theta0   : the intial guess on the learning parameters\n",
    "            alpha    : the learning rate\n",
    "            tol      : the margin of error\n",
    "            num_iter : the number of times algorithms must loop\n",
    "            L        : the regularisation parameter(lambda)\n",
    "            \n",
    "        outputs:\n",
    "            theta    : the learning parameters given the model\n",
    "    \"\"\"\n",
    "    \n",
    "    \n",
    "    sigmoid = lambda z: 1/(1+np.exp(-z))\n",
    "    \n",
    "    i = 1\n",
    "    V = np.copy(theta0)\n",
    "    V[0] = 0\n",
    "    theta_new  = theta0 - alpha*(sigmoid(theta0 @ X.T) - y) @ X + L*V\n",
    "    \n",
    "    while np.linalg.norm(theta_new-theta0) >tol and i <=num_iter:\n",
    "        i+=1\n",
    "        theta0 = theta_new\n",
    "        V = np.copy(theta0)\n",
    "        V[0] = 0\n",
    "        theta_new  = theta0 - alpha*(sigmoid(theta0 @ X.T) - y) @ X + L*V\n",
    "    \n",
    "    return theta_new"
   ]
  },
  {
   "cell_type": "code",
   "execution_count": 5,
   "metadata": {},
   "outputs": [],
   "source": [
    "def y_subset(y,value):\n",
    "    \n",
    "    \"\"\"\n",
    "        creates the sub labels for that specific label to train multiclass logistic regression\n",
    "        \n",
    "        inputs:\n",
    "            y        : the true labels associated with the data\n",
    "            value    : the label that will be used to generate the y_subset\n",
    "        \n",
    "        outputs:\n",
    "            y_subset : the labels that will be used to train the logistic regression \n",
    "    \"\"\"\n",
    "    \n",
    "    ans = []\n",
    "    \n",
    "    for i in range(0,len(y),1):\n",
    "        \n",
    "        if(y[i]==value):\n",
    "            ans.append(1)\n",
    "        else:\n",
    "            ans.append(0)\n",
    "    return ans"
   ]
  },
  {
   "cell_type": "code",
   "execution_count": 6,
   "metadata": {},
   "outputs": [],
   "source": [
    "def One_vs_all(X,y,Theta0,alpha,tol,L,num_iter):\n",
    "\n",
    "    \"\"\"\n",
    "        computes theta Matrix using the logistic Regression\n",
    "        \n",
    "        inputs:\n",
    "            X        : data in the form of the design matrix\n",
    "            y        : the labels associated with the data\n",
    "            theta0   : the intial guess on the learning parameters\n",
    "            alpha    : the learning rate\n",
    "            tol      : the margin of error\n",
    "            num_iter : the number of times algorithms must loop\n",
    "            L        : the regularisation parameter(lambda)\n",
    "            \n",
    "        outputs:\n",
    "            theta    : the learning parameters given the model\n",
    "    \"\"\"\n",
    "    \n",
    "    outcomes = np.unique(y)\n",
    "    Param = []\n",
    "    \n",
    "    for i in range(len(outcomes)):\n",
    "        \n",
    "        value = outcomes[i]\n",
    "        y_sub = y_subset(y,value)\n",
    "        temp_theta = Theta0[i,:]\n",
    "        temp_param = LogisticRegression(X,y_sub,temp_theta,alpha,tol,L,num_iter)\n",
    "        Param.append(temp_param)\n",
    "        \n",
    "    return np.array(Param)"
   ]
  },
  {
   "cell_type": "code",
   "execution_count": 7,
   "metadata": {},
   "outputs": [],
   "source": [
    "class LogisticModel:\n",
    "\n",
    "    def __init__(self,multiclass):\n",
    "\n",
    "        \"\"\"\n",
    "            intialises the Logistic model class\n",
    "\n",
    "            Inputs:\n",
    "                multiclass: specifics if model is a binary classifier or not\n",
    "        \"\"\"\n",
    "\n",
    "        self.W = None\n",
    "        self.multiclass = multiclass\n",
    "\n",
    "    def train(self,X,y,Theta0,alpha,tol,L,num_iter):\n",
    "\n",
    "        \"\"\"\n",
    "        computes theta Matrix using the logistic Regression\n",
    "        \n",
    "        inputs:\n",
    "            X        : data in the form of the design matrix\n",
    "            y        : the labels associated with the data\n",
    "            theta0   : the intial guess on the learning parameters\n",
    "            alpha    : the learning rate\n",
    "            tol      : the margin of error\n",
    "            num_iter : the number of times algorithms must loop\n",
    "            L        : the regularisation parameter(lambda)\n",
    "        \"\"\"\n",
    "\n",
    "        if(self.multiclass == True):\n",
    "            self.W = self.One_vs_all(X,y,Theta0,alpha,tol,L,num_iter)\n",
    "        else:\n",
    "            Self.W = self.LogisticRegression(X,y,theta0,alpha,tol,L,num_iter)\n",
    "            \n",
    "\n",
    "    def LogisticRegression(self,X,y,theta0,alpha,tol,L,num_iter):\n",
    "        \"\"\"\n",
    "            computes theta values using the psuedo inverse\n",
    "            \n",
    "            inputs:\n",
    "                X        : data in the form of the design matrix\n",
    "                y        : the labels associated with the data\n",
    "                theta0   : the intial guess on the learning parameters\n",
    "                alpha    : the learning rate\n",
    "                tol      : the margin of error\n",
    "                num_iter : the number of times algorithms must loop\n",
    "                L        : the regularisation parameter(lambda)\n",
    "                \n",
    "            outputs:\n",
    "                theta    : the learning parameters given the model\n",
    "        \"\"\"\n",
    "        \n",
    "        \n",
    "        sigmoid = lambda z: 1/(1+np.exp(-z))\n",
    "        \n",
    "        i = 1\n",
    "        V = np.copy(theta0)\n",
    "        V[0] = 0\n",
    "        theta_new  = theta0 - alpha*(sigmoid(theta0 @ X.T) - y) @ X + L*V\n",
    "        \n",
    "        while np.linalg.norm(theta_new-theta0) >tol and i <=num_iter:\n",
    "            i+=1\n",
    "            theta0 = theta_new\n",
    "            V = np.copy(theta0)\n",
    "            V[0] = 0\n",
    "            theta_new  = theta0 - alpha*(sigmoid(theta0 @ X.T) - y) @ X + L*V\n",
    "        \n",
    "        return theta_new\n",
    "\n",
    "\n",
    "    def One_vs_all(self,X,y,Theta0,alpha,tol,L,num_iter):\n",
    "\n",
    "        \"\"\"\n",
    "        computes theta Matrix using the logistic Regression\n",
    "        \n",
    "        inputs:\n",
    "            X        : data in the form of the design matrix\n",
    "            y        : the labels associated with the data\n",
    "            theta0   : the intial guess on the learning parameters\n",
    "            alpha    : the learning rate\n",
    "            tol      : the margin of error\n",
    "            num_iter : the number of times algorithms must loop\n",
    "            L        : the regularisation parameter(lambda)\n",
    "            \n",
    "        outputs:\n",
    "            theta    : the learning parameters given the model\n",
    "        \"\"\"\n",
    "    \n",
    "        outcomes = np.unique(y)\n",
    "        Param = []\n",
    "    \n",
    "        for i in range(len(outcomes)):\n",
    "        \n",
    "            value = outcomes[i]\n",
    "            y_sub = self.y_subset(y,value)\n",
    "            temp_theta = Theta0[i,:]\n",
    "            temp_param = self.LogisticRegression(X,y_sub,temp_theta,alpha,tol,L,num_iter)\n",
    "            Param.append(temp_param)\n",
    "        \n",
    "        return np.array(Param)\n",
    "\n",
    "\n",
    "\n",
    "    def y_subset(self,y,value):\n",
    "    \n",
    "        \"\"\"\n",
    "            creates the sub labels for that specific label to train multiclass logistic regression\n",
    "            \n",
    "            inputs:\n",
    "                y        : the true labels associated with the data\n",
    "                value    : the label that will be used to generate the y_subset\n",
    "            \n",
    "            outputs:\n",
    "                y_subset : the labels that will be used to train the logistic regression \n",
    "        \"\"\"\n",
    "        \n",
    "        ans = []\n",
    "        \n",
    "        for i in range(0,len(y),1):\n",
    "            \n",
    "            if(y[i]==value):\n",
    "                ans.append(1)\n",
    "            else:\n",
    "                ans.append(0)\n",
    "        return ans"
   ]
  },
  {
   "cell_type": "markdown",
   "metadata": {},
   "source": [
    "### <center>Confusion Matrix</center>"
   ]
  },
  {
   "cell_type": "code",
   "execution_count": 8,
   "metadata": {},
   "outputs": [],
   "source": [
    "def confusion_matrix(output,y):\n",
    "    \n",
    "   \n",
    "    outcomes = list(np.unique(y))\n",
    "    \n",
    "    matrix = np.zeros((len(outcomes),len(outcomes)))\n",
    "    \n",
    "    for i in range(0,len(y),1):\n",
    "        \n",
    "        predicted_value = output[i]\n",
    "        true_value = y[i]\n",
    "        \n",
    "        row = outcomes.index(predicted_value)\n",
    "        col = outcomes.index(true_value)\n",
    "        \n",
    "        matrix[row,col] += 1\n",
    "        \n",
    "    \n",
    "    error = 0\n",
    "    \n",
    "    for i in range(0,len(outcomes),1):\n",
    "        error+= matrix[i][i]\n",
    "        \n",
    "    error/= len(y)\n",
    "    con_matrix = pd.DataFrame(data = matrix,index= outcomes,columns=outcomes)\n",
    "    return error,con_matrix"
   ]
  },
  {
   "source": [
    "# Cleaning the data"
   ],
   "cell_type": "markdown",
   "metadata": {}
  },
  {
   "cell_type": "code",
   "execution_count": 91,
   "metadata": {},
   "outputs": [
    {
     "output_type": "execute_result",
     "data": {
      "text/plain": [
       "   case_id  Hospital  Hospital_type  Hospital_city  Hospital_region  \\\n",
       "0        1         8              2              3                2   \n",
       "1        2         2              2              5                2   \n",
       "2        3        10              4              1                0   \n",
       "3        4        26              1              2                1   \n",
       "4        5        26              1              2                1   \n",
       "5        6        23              0              6                0   \n",
       "6        7        32              5              9                1   \n",
       "7        8        23              0              6                0   \n",
       "8        9         1              3             10                1   \n",
       "9       10        10              4              1                0   \n",
       "\n",
       "   Available_Extra_Rooms_in_Hospital    Department Ward_Type Ward_Facility  \\\n",
       "0                                  3  radiotherapy         R             F   \n",
       "1                                  2  radiotherapy         S             F   \n",
       "2                                  2    anesthesia         S             E   \n",
       "3                                  2  radiotherapy         R             D   \n",
       "4                                  2  radiotherapy         S             D   \n",
       "5                                  2    anesthesia         S             F   \n",
       "6                                  1  radiotherapy         S             B   \n",
       "7                                  4  radiotherapy         Q             F   \n",
       "8                                  2    gynecology         R             B   \n",
       "9                                  2    gynecology         S             E   \n",
       "\n",
       "   Bed_Grade  patientid  City_Code_Patient Type of Admission Illness_Severity  \\\n",
       "0        2.0      31397                7.0         Emergency          Extreme   \n",
       "1        2.0      31397                7.0            Trauma          Extreme   \n",
       "2        2.0      31397                7.0            Trauma          Extreme   \n",
       "3        2.0      31397                7.0            Trauma          Extreme   \n",
       "4        2.0      31397                7.0            Trauma          Extreme   \n",
       "5        2.0      31397                7.0            Trauma          Extreme   \n",
       "6        3.0      31397                7.0         Emergency          Extreme   \n",
       "7        3.0      31397                7.0            Trauma          Extreme   \n",
       "8        4.0      31397                7.0            Trauma          Extreme   \n",
       "9        3.0      31397                7.0            Trauma          Extreme   \n",
       "\n",
       "   Patient_Visitors    Age  Admission_Deposit Stay_Days  \n",
       "0                 2  51-60             4911.0      0-10  \n",
       "1                 2  51-60             5954.0     41-50  \n",
       "2                 2  51-60             4745.0     31-40  \n",
       "3                 2  51-60             7272.0     41-50  \n",
       "4                 2  51-60             5558.0     41-50  \n",
       "5                 2  51-60             4449.0     11-20  \n",
       "6                 2  51-60             6167.0      0-10  \n",
       "7                 2  51-60             5571.0     41-50  \n",
       "8                 2  51-60             7223.0     51-60  \n",
       "9                 2  51-60             6056.0     31-40  "
      ],
      "text/html": "<div>\n<style scoped>\n    .dataframe tbody tr th:only-of-type {\n        vertical-align: middle;\n    }\n\n    .dataframe tbody tr th {\n        vertical-align: top;\n    }\n\n    .dataframe thead th {\n        text-align: right;\n    }\n</style>\n<table border=\"1\" class=\"dataframe\">\n  <thead>\n    <tr style=\"text-align: right;\">\n      <th></th>\n      <th>case_id</th>\n      <th>Hospital</th>\n      <th>Hospital_type</th>\n      <th>Hospital_city</th>\n      <th>Hospital_region</th>\n      <th>Available_Extra_Rooms_in_Hospital</th>\n      <th>Department</th>\n      <th>Ward_Type</th>\n      <th>Ward_Facility</th>\n      <th>Bed_Grade</th>\n      <th>patientid</th>\n      <th>City_Code_Patient</th>\n      <th>Type of Admission</th>\n      <th>Illness_Severity</th>\n      <th>Patient_Visitors</th>\n      <th>Age</th>\n      <th>Admission_Deposit</th>\n      <th>Stay_Days</th>\n    </tr>\n  </thead>\n  <tbody>\n    <tr>\n      <td>0</td>\n      <td>1</td>\n      <td>8</td>\n      <td>2</td>\n      <td>3</td>\n      <td>2</td>\n      <td>3</td>\n      <td>radiotherapy</td>\n      <td>R</td>\n      <td>F</td>\n      <td>2.0</td>\n      <td>31397</td>\n      <td>7.0</td>\n      <td>Emergency</td>\n      <td>Extreme</td>\n      <td>2</td>\n      <td>51-60</td>\n      <td>4911.0</td>\n      <td>0-10</td>\n    </tr>\n    <tr>\n      <td>1</td>\n      <td>2</td>\n      <td>2</td>\n      <td>2</td>\n      <td>5</td>\n      <td>2</td>\n      <td>2</td>\n      <td>radiotherapy</td>\n      <td>S</td>\n      <td>F</td>\n      <td>2.0</td>\n      <td>31397</td>\n      <td>7.0</td>\n      <td>Trauma</td>\n      <td>Extreme</td>\n      <td>2</td>\n      <td>51-60</td>\n      <td>5954.0</td>\n      <td>41-50</td>\n    </tr>\n    <tr>\n      <td>2</td>\n      <td>3</td>\n      <td>10</td>\n      <td>4</td>\n      <td>1</td>\n      <td>0</td>\n      <td>2</td>\n      <td>anesthesia</td>\n      <td>S</td>\n      <td>E</td>\n      <td>2.0</td>\n      <td>31397</td>\n      <td>7.0</td>\n      <td>Trauma</td>\n      <td>Extreme</td>\n      <td>2</td>\n      <td>51-60</td>\n      <td>4745.0</td>\n      <td>31-40</td>\n    </tr>\n    <tr>\n      <td>3</td>\n      <td>4</td>\n      <td>26</td>\n      <td>1</td>\n      <td>2</td>\n      <td>1</td>\n      <td>2</td>\n      <td>radiotherapy</td>\n      <td>R</td>\n      <td>D</td>\n      <td>2.0</td>\n      <td>31397</td>\n      <td>7.0</td>\n      <td>Trauma</td>\n      <td>Extreme</td>\n      <td>2</td>\n      <td>51-60</td>\n      <td>7272.0</td>\n      <td>41-50</td>\n    </tr>\n    <tr>\n      <td>4</td>\n      <td>5</td>\n      <td>26</td>\n      <td>1</td>\n      <td>2</td>\n      <td>1</td>\n      <td>2</td>\n      <td>radiotherapy</td>\n      <td>S</td>\n      <td>D</td>\n      <td>2.0</td>\n      <td>31397</td>\n      <td>7.0</td>\n      <td>Trauma</td>\n      <td>Extreme</td>\n      <td>2</td>\n      <td>51-60</td>\n      <td>5558.0</td>\n      <td>41-50</td>\n    </tr>\n    <tr>\n      <td>5</td>\n      <td>6</td>\n      <td>23</td>\n      <td>0</td>\n      <td>6</td>\n      <td>0</td>\n      <td>2</td>\n      <td>anesthesia</td>\n      <td>S</td>\n      <td>F</td>\n      <td>2.0</td>\n      <td>31397</td>\n      <td>7.0</td>\n      <td>Trauma</td>\n      <td>Extreme</td>\n      <td>2</td>\n      <td>51-60</td>\n      <td>4449.0</td>\n      <td>11-20</td>\n    </tr>\n    <tr>\n      <td>6</td>\n      <td>7</td>\n      <td>32</td>\n      <td>5</td>\n      <td>9</td>\n      <td>1</td>\n      <td>1</td>\n      <td>radiotherapy</td>\n      <td>S</td>\n      <td>B</td>\n      <td>3.0</td>\n      <td>31397</td>\n      <td>7.0</td>\n      <td>Emergency</td>\n      <td>Extreme</td>\n      <td>2</td>\n      <td>51-60</td>\n      <td>6167.0</td>\n      <td>0-10</td>\n    </tr>\n    <tr>\n      <td>7</td>\n      <td>8</td>\n      <td>23</td>\n      <td>0</td>\n      <td>6</td>\n      <td>0</td>\n      <td>4</td>\n      <td>radiotherapy</td>\n      <td>Q</td>\n      <td>F</td>\n      <td>3.0</td>\n      <td>31397</td>\n      <td>7.0</td>\n      <td>Trauma</td>\n      <td>Extreme</td>\n      <td>2</td>\n      <td>51-60</td>\n      <td>5571.0</td>\n      <td>41-50</td>\n    </tr>\n    <tr>\n      <td>8</td>\n      <td>9</td>\n      <td>1</td>\n      <td>3</td>\n      <td>10</td>\n      <td>1</td>\n      <td>2</td>\n      <td>gynecology</td>\n      <td>R</td>\n      <td>B</td>\n      <td>4.0</td>\n      <td>31397</td>\n      <td>7.0</td>\n      <td>Trauma</td>\n      <td>Extreme</td>\n      <td>2</td>\n      <td>51-60</td>\n      <td>7223.0</td>\n      <td>51-60</td>\n    </tr>\n    <tr>\n      <td>9</td>\n      <td>10</td>\n      <td>10</td>\n      <td>4</td>\n      <td>1</td>\n      <td>0</td>\n      <td>2</td>\n      <td>gynecology</td>\n      <td>S</td>\n      <td>E</td>\n      <td>3.0</td>\n      <td>31397</td>\n      <td>7.0</td>\n      <td>Trauma</td>\n      <td>Extreme</td>\n      <td>2</td>\n      <td>51-60</td>\n      <td>6056.0</td>\n      <td>31-40</td>\n    </tr>\n  </tbody>\n</table>\n</div>"
     },
     "metadata": {},
     "execution_count": 91
    }
   ],
   "source": [
    "#Importing the data#\n",
    "Dataset = pd.read_csv(\"Data/host_train.csv\")\n",
    "\n",
    "#printing the first 10 values\n",
    "Dataset.head(10)"
   ]
  },
  {
   "cell_type": "code",
   "execution_count": 92,
   "metadata": {},
   "outputs": [
    {
     "output_type": "stream",
     "name": "stdout",
     "text": [
      "<class 'pandas.core.frame.DataFrame'>\nRangeIndex: 318438 entries, 0 to 318437\nData columns (total 18 columns):\ncase_id                              318438 non-null int64\nHospital                             318438 non-null int64\nHospital_type                        318438 non-null int64\nHospital_city                        318438 non-null int64\nHospital_region                      318438 non-null int64\nAvailable_Extra_Rooms_in_Hospital    318438 non-null int64\nDepartment                           318438 non-null object\nWard_Type                            318438 non-null object\nWard_Facility                        318438 non-null object\nBed_Grade                            318325 non-null float64\npatientid                            318438 non-null int64\nCity_Code_Patient                    313906 non-null float64\nType of Admission                    318438 non-null object\nIllness_Severity                     318438 non-null object\nPatient_Visitors                     318438 non-null int64\nAge                                  318438 non-null object\nAdmission_Deposit                    318438 non-null float64\nStay_Days                            318438 non-null object\ndtypes: float64(3), int64(8), object(7)\nmemory usage: 43.7+ MB\n"
     ]
    }
   ],
   "source": [
    "Dataset.info()"
   ]
  },
  {
   "cell_type": "code",
   "execution_count": 93,
   "metadata": {},
   "outputs": [
    {
     "output_type": "execute_result",
     "data": {
      "text/plain": [
       "   Hospital  Hospital_type  Hospital_city  Hospital_region  \\\n",
       "0         8              2              3                2   \n",
       "1         2              2              5                2   \n",
       "2        10              4              1                0   \n",
       "3        26              1              2                1   \n",
       "4        26              1              2                1   \n",
       "5        23              0              6                0   \n",
       "6        32              5              9                1   \n",
       "7        23              0              6                0   \n",
       "8         1              3             10                1   \n",
       "9        10              4              1                0   \n",
       "\n",
       "   Available_Extra_Rooms_in_Hospital    Department Ward_Type Ward_Facility  \\\n",
       "0                                  3  radiotherapy         R             F   \n",
       "1                                  2  radiotherapy         S             F   \n",
       "2                                  2    anesthesia         S             E   \n",
       "3                                  2  radiotherapy         R             D   \n",
       "4                                  2  radiotherapy         S             D   \n",
       "5                                  2    anesthesia         S             F   \n",
       "6                                  1  radiotherapy         S             B   \n",
       "7                                  4  radiotherapy         Q             F   \n",
       "8                                  2    gynecology         R             B   \n",
       "9                                  2    gynecology         S             E   \n",
       "\n",
       "   Bed_Grade  City_Code_Patient Type of Admission Illness_Severity  \\\n",
       "0        2.0                7.0         Emergency          Extreme   \n",
       "1        2.0                7.0            Trauma          Extreme   \n",
       "2        2.0                7.0            Trauma          Extreme   \n",
       "3        2.0                7.0            Trauma          Extreme   \n",
       "4        2.0                7.0            Trauma          Extreme   \n",
       "5        2.0                7.0            Trauma          Extreme   \n",
       "6        3.0                7.0         Emergency          Extreme   \n",
       "7        3.0                7.0            Trauma          Extreme   \n",
       "8        4.0                7.0            Trauma          Extreme   \n",
       "9        3.0                7.0            Trauma          Extreme   \n",
       "\n",
       "   Patient_Visitors    Age  Admission_Deposit Stay_Days  \n",
       "0                 2  51-60             4911.0      0-10  \n",
       "1                 2  51-60             5954.0     41-50  \n",
       "2                 2  51-60             4745.0     31-40  \n",
       "3                 2  51-60             7272.0     41-50  \n",
       "4                 2  51-60             5558.0     41-50  \n",
       "5                 2  51-60             4449.0     11-20  \n",
       "6                 2  51-60             6167.0      0-10  \n",
       "7                 2  51-60             5571.0     41-50  \n",
       "8                 2  51-60             7223.0     51-60  \n",
       "9                 2  51-60             6056.0     31-40  "
      ],
      "text/html": "<div>\n<style scoped>\n    .dataframe tbody tr th:only-of-type {\n        vertical-align: middle;\n    }\n\n    .dataframe tbody tr th {\n        vertical-align: top;\n    }\n\n    .dataframe thead th {\n        text-align: right;\n    }\n</style>\n<table border=\"1\" class=\"dataframe\">\n  <thead>\n    <tr style=\"text-align: right;\">\n      <th></th>\n      <th>Hospital</th>\n      <th>Hospital_type</th>\n      <th>Hospital_city</th>\n      <th>Hospital_region</th>\n      <th>Available_Extra_Rooms_in_Hospital</th>\n      <th>Department</th>\n      <th>Ward_Type</th>\n      <th>Ward_Facility</th>\n      <th>Bed_Grade</th>\n      <th>City_Code_Patient</th>\n      <th>Type of Admission</th>\n      <th>Illness_Severity</th>\n      <th>Patient_Visitors</th>\n      <th>Age</th>\n      <th>Admission_Deposit</th>\n      <th>Stay_Days</th>\n    </tr>\n  </thead>\n  <tbody>\n    <tr>\n      <td>0</td>\n      <td>8</td>\n      <td>2</td>\n      <td>3</td>\n      <td>2</td>\n      <td>3</td>\n      <td>radiotherapy</td>\n      <td>R</td>\n      <td>F</td>\n      <td>2.0</td>\n      <td>7.0</td>\n      <td>Emergency</td>\n      <td>Extreme</td>\n      <td>2</td>\n      <td>51-60</td>\n      <td>4911.0</td>\n      <td>0-10</td>\n    </tr>\n    <tr>\n      <td>1</td>\n      <td>2</td>\n      <td>2</td>\n      <td>5</td>\n      <td>2</td>\n      <td>2</td>\n      <td>radiotherapy</td>\n      <td>S</td>\n      <td>F</td>\n      <td>2.0</td>\n      <td>7.0</td>\n      <td>Trauma</td>\n      <td>Extreme</td>\n      <td>2</td>\n      <td>51-60</td>\n      <td>5954.0</td>\n      <td>41-50</td>\n    </tr>\n    <tr>\n      <td>2</td>\n      <td>10</td>\n      <td>4</td>\n      <td>1</td>\n      <td>0</td>\n      <td>2</td>\n      <td>anesthesia</td>\n      <td>S</td>\n      <td>E</td>\n      <td>2.0</td>\n      <td>7.0</td>\n      <td>Trauma</td>\n      <td>Extreme</td>\n      <td>2</td>\n      <td>51-60</td>\n      <td>4745.0</td>\n      <td>31-40</td>\n    </tr>\n    <tr>\n      <td>3</td>\n      <td>26</td>\n      <td>1</td>\n      <td>2</td>\n      <td>1</td>\n      <td>2</td>\n      <td>radiotherapy</td>\n      <td>R</td>\n      <td>D</td>\n      <td>2.0</td>\n      <td>7.0</td>\n      <td>Trauma</td>\n      <td>Extreme</td>\n      <td>2</td>\n      <td>51-60</td>\n      <td>7272.0</td>\n      <td>41-50</td>\n    </tr>\n    <tr>\n      <td>4</td>\n      <td>26</td>\n      <td>1</td>\n      <td>2</td>\n      <td>1</td>\n      <td>2</td>\n      <td>radiotherapy</td>\n      <td>S</td>\n      <td>D</td>\n      <td>2.0</td>\n      <td>7.0</td>\n      <td>Trauma</td>\n      <td>Extreme</td>\n      <td>2</td>\n      <td>51-60</td>\n      <td>5558.0</td>\n      <td>41-50</td>\n    </tr>\n    <tr>\n      <td>5</td>\n      <td>23</td>\n      <td>0</td>\n      <td>6</td>\n      <td>0</td>\n      <td>2</td>\n      <td>anesthesia</td>\n      <td>S</td>\n      <td>F</td>\n      <td>2.0</td>\n      <td>7.0</td>\n      <td>Trauma</td>\n      <td>Extreme</td>\n      <td>2</td>\n      <td>51-60</td>\n      <td>4449.0</td>\n      <td>11-20</td>\n    </tr>\n    <tr>\n      <td>6</td>\n      <td>32</td>\n      <td>5</td>\n      <td>9</td>\n      <td>1</td>\n      <td>1</td>\n      <td>radiotherapy</td>\n      <td>S</td>\n      <td>B</td>\n      <td>3.0</td>\n      <td>7.0</td>\n      <td>Emergency</td>\n      <td>Extreme</td>\n      <td>2</td>\n      <td>51-60</td>\n      <td>6167.0</td>\n      <td>0-10</td>\n    </tr>\n    <tr>\n      <td>7</td>\n      <td>23</td>\n      <td>0</td>\n      <td>6</td>\n      <td>0</td>\n      <td>4</td>\n      <td>radiotherapy</td>\n      <td>Q</td>\n      <td>F</td>\n      <td>3.0</td>\n      <td>7.0</td>\n      <td>Trauma</td>\n      <td>Extreme</td>\n      <td>2</td>\n      <td>51-60</td>\n      <td>5571.0</td>\n      <td>41-50</td>\n    </tr>\n    <tr>\n      <td>8</td>\n      <td>1</td>\n      <td>3</td>\n      <td>10</td>\n      <td>1</td>\n      <td>2</td>\n      <td>gynecology</td>\n      <td>R</td>\n      <td>B</td>\n      <td>4.0</td>\n      <td>7.0</td>\n      <td>Trauma</td>\n      <td>Extreme</td>\n      <td>2</td>\n      <td>51-60</td>\n      <td>7223.0</td>\n      <td>51-60</td>\n    </tr>\n    <tr>\n      <td>9</td>\n      <td>10</td>\n      <td>4</td>\n      <td>1</td>\n      <td>0</td>\n      <td>2</td>\n      <td>gynecology</td>\n      <td>S</td>\n      <td>E</td>\n      <td>3.0</td>\n      <td>7.0</td>\n      <td>Trauma</td>\n      <td>Extreme</td>\n      <td>2</td>\n      <td>51-60</td>\n      <td>6056.0</td>\n      <td>31-40</td>\n    </tr>\n  </tbody>\n</table>\n</div>"
     },
     "metadata": {},
     "execution_count": 93
    }
   ],
   "source": [
    "#Dropping case ID and patient ID\n",
    "Dataset = Dataset.drop(['case_id','patientid'],axis =1)\n",
    "Dataset.head(10)"
   ]
  },
  {
   "cell_type": "code",
   "execution_count": 94,
   "metadata": {},
   "outputs": [
    {
     "output_type": "execute_result",
     "data": {
      "text/plain": [
       "gynecology            249486\n",
       "anesthesia             29649\n",
       "radiotherapy           28516\n",
       "TB & Chest disease      9586\n",
       "surgery                 1201\n",
       "Name: Department, dtype: int64"
      ]
     },
     "metadata": {},
     "execution_count": 94
    }
   ],
   "source": [
    "#Departments#\n",
    "formatedData = Dataset\n",
    "Dataset['Department'].value_counts()"
   ]
  },
  {
   "cell_type": "code",
   "execution_count": 95,
   "metadata": {},
   "outputs": [
    {
     "output_type": "execute_result",
     "data": {
      "text/plain": [
       "   Hospital  Hospital_type  Hospital_city  Hospital_region  \\\n",
       "0         8              2              3                2   \n",
       "1         2              2              5                2   \n",
       "2        10              4              1                0   \n",
       "3        26              1              2                1   \n",
       "4        26              1              2                1   \n",
       "\n",
       "   Available_Extra_Rooms_in_Hospital  Department Ward_Type Ward_Facility  \\\n",
       "0                                  3           2         R             F   \n",
       "1                                  2           2         S             F   \n",
       "2                                  2           1         S             E   \n",
       "3                                  2           2         R             D   \n",
       "4                                  2           2         S             D   \n",
       "\n",
       "   Bed_Grade  City_Code_Patient Type of Admission Illness_Severity  \\\n",
       "0        2.0                7.0         Emergency          Extreme   \n",
       "1        2.0                7.0            Trauma          Extreme   \n",
       "2        2.0                7.0            Trauma          Extreme   \n",
       "3        2.0                7.0            Trauma          Extreme   \n",
       "4        2.0                7.0            Trauma          Extreme   \n",
       "\n",
       "   Patient_Visitors    Age  Admission_Deposit Stay_Days  \n",
       "0                 2  51-60             4911.0      0-10  \n",
       "1                 2  51-60             5954.0     41-50  \n",
       "2                 2  51-60             4745.0     31-40  \n",
       "3                 2  51-60             7272.0     41-50  \n",
       "4                 2  51-60             5558.0     41-50  "
      ],
      "text/html": "<div>\n<style scoped>\n    .dataframe tbody tr th:only-of-type {\n        vertical-align: middle;\n    }\n\n    .dataframe tbody tr th {\n        vertical-align: top;\n    }\n\n    .dataframe thead th {\n        text-align: right;\n    }\n</style>\n<table border=\"1\" class=\"dataframe\">\n  <thead>\n    <tr style=\"text-align: right;\">\n      <th></th>\n      <th>Hospital</th>\n      <th>Hospital_type</th>\n      <th>Hospital_city</th>\n      <th>Hospital_region</th>\n      <th>Available_Extra_Rooms_in_Hospital</th>\n      <th>Department</th>\n      <th>Ward_Type</th>\n      <th>Ward_Facility</th>\n      <th>Bed_Grade</th>\n      <th>City_Code_Patient</th>\n      <th>Type of Admission</th>\n      <th>Illness_Severity</th>\n      <th>Patient_Visitors</th>\n      <th>Age</th>\n      <th>Admission_Deposit</th>\n      <th>Stay_Days</th>\n    </tr>\n  </thead>\n  <tbody>\n    <tr>\n      <td>0</td>\n      <td>8</td>\n      <td>2</td>\n      <td>3</td>\n      <td>2</td>\n      <td>3</td>\n      <td>2</td>\n      <td>R</td>\n      <td>F</td>\n      <td>2.0</td>\n      <td>7.0</td>\n      <td>Emergency</td>\n      <td>Extreme</td>\n      <td>2</td>\n      <td>51-60</td>\n      <td>4911.0</td>\n      <td>0-10</td>\n    </tr>\n    <tr>\n      <td>1</td>\n      <td>2</td>\n      <td>2</td>\n      <td>5</td>\n      <td>2</td>\n      <td>2</td>\n      <td>2</td>\n      <td>S</td>\n      <td>F</td>\n      <td>2.0</td>\n      <td>7.0</td>\n      <td>Trauma</td>\n      <td>Extreme</td>\n      <td>2</td>\n      <td>51-60</td>\n      <td>5954.0</td>\n      <td>41-50</td>\n    </tr>\n    <tr>\n      <td>2</td>\n      <td>10</td>\n      <td>4</td>\n      <td>1</td>\n      <td>0</td>\n      <td>2</td>\n      <td>1</td>\n      <td>S</td>\n      <td>E</td>\n      <td>2.0</td>\n      <td>7.0</td>\n      <td>Trauma</td>\n      <td>Extreme</td>\n      <td>2</td>\n      <td>51-60</td>\n      <td>4745.0</td>\n      <td>31-40</td>\n    </tr>\n    <tr>\n      <td>3</td>\n      <td>26</td>\n      <td>1</td>\n      <td>2</td>\n      <td>1</td>\n      <td>2</td>\n      <td>2</td>\n      <td>R</td>\n      <td>D</td>\n      <td>2.0</td>\n      <td>7.0</td>\n      <td>Trauma</td>\n      <td>Extreme</td>\n      <td>2</td>\n      <td>51-60</td>\n      <td>7272.0</td>\n      <td>41-50</td>\n    </tr>\n    <tr>\n      <td>4</td>\n      <td>26</td>\n      <td>1</td>\n      <td>2</td>\n      <td>1</td>\n      <td>2</td>\n      <td>2</td>\n      <td>S</td>\n      <td>D</td>\n      <td>2.0</td>\n      <td>7.0</td>\n      <td>Trauma</td>\n      <td>Extreme</td>\n      <td>2</td>\n      <td>51-60</td>\n      <td>5558.0</td>\n      <td>41-50</td>\n    </tr>\n  </tbody>\n</table>\n</div>"
     },
     "metadata": {},
     "execution_count": 95
    }
   ],
   "source": [
    "\"\"\"\n",
    "    Replacing Department values with integers\n",
    "\n",
    "    0 : gynecology\n",
    "    1 : anesthesia\n",
    "    2 : radiotherapy\n",
    "    3 : TB & Chest disease\n",
    "    4 : surgery\n",
    "\"\"\"\n",
    "\n",
    "formatedData['Department'] = formatedData['Department'].replace([\"gynecology\",\"anesthesia\",\"radiotherapy\",\"TB & Chest disease\",\"surgery\"],[0,1,2,3,4])\n",
    "\n",
    "# formatedData = formatedData.replace(to_replace=\"gynecology\",value=0)\n",
    "# formatedData = formatedData.replace(to_replace=\"anesthesia\",value=1)\n",
    "# formatedData = formatedData.replace(to_replace=\"radiotherapy\",value=2)\n",
    "# formatedData = formatedData.replace(to_replace=\"TB & Chest disease\",value=3)\n",
    "# formatedData = formatedData.replace(to_replace=\"surgery\",value=4)\n",
    "\n",
    "formatedData.head()"
   ]
  },
  {
   "cell_type": "code",
   "execution_count": 96,
   "metadata": {},
   "outputs": [
    {
     "output_type": "execute_result",
     "data": {
      "text/plain": [
       "R    127947\n",
       "Q    106165\n",
       "S     77794\n",
       "P      5046\n",
       "T      1477\n",
       "U         9\n",
       "Name: Ward_Type, dtype: int64"
      ]
     },
     "metadata": {},
     "execution_count": 96
    }
   ],
   "source": [
    "#Ward Type\n",
    "Dataset['Ward_Type'].value_counts()"
   ]
  },
  {
   "cell_type": "code",
   "execution_count": 97,
   "metadata": {},
   "outputs": [
    {
     "output_type": "execute_result",
     "data": {
      "text/plain": [
       "   Hospital  Hospital_type  Hospital_city  Hospital_region  \\\n",
       "0         8              2              3                2   \n",
       "1         2              2              5                2   \n",
       "2        10              4              1                0   \n",
       "3        26              1              2                1   \n",
       "4        26              1              2                1   \n",
       "\n",
       "   Available_Extra_Rooms_in_Hospital  Department  Ward_Type Ward_Facility  \\\n",
       "0                                  3           2          2             F   \n",
       "1                                  2           2          3             F   \n",
       "2                                  2           1          3             E   \n",
       "3                                  2           2          2             D   \n",
       "4                                  2           2          3             D   \n",
       "\n",
       "   Bed_Grade  City_Code_Patient Type of Admission Illness_Severity  \\\n",
       "0        2.0                7.0         Emergency          Extreme   \n",
       "1        2.0                7.0            Trauma          Extreme   \n",
       "2        2.0                7.0            Trauma          Extreme   \n",
       "3        2.0                7.0            Trauma          Extreme   \n",
       "4        2.0                7.0            Trauma          Extreme   \n",
       "\n",
       "   Patient_Visitors    Age  Admission_Deposit Stay_Days  \n",
       "0                 2  51-60             4911.0      0-10  \n",
       "1                 2  51-60             5954.0     41-50  \n",
       "2                 2  51-60             4745.0     31-40  \n",
       "3                 2  51-60             7272.0     41-50  \n",
       "4                 2  51-60             5558.0     41-50  "
      ],
      "text/html": "<div>\n<style scoped>\n    .dataframe tbody tr th:only-of-type {\n        vertical-align: middle;\n    }\n\n    .dataframe tbody tr th {\n        vertical-align: top;\n    }\n\n    .dataframe thead th {\n        text-align: right;\n    }\n</style>\n<table border=\"1\" class=\"dataframe\">\n  <thead>\n    <tr style=\"text-align: right;\">\n      <th></th>\n      <th>Hospital</th>\n      <th>Hospital_type</th>\n      <th>Hospital_city</th>\n      <th>Hospital_region</th>\n      <th>Available_Extra_Rooms_in_Hospital</th>\n      <th>Department</th>\n      <th>Ward_Type</th>\n      <th>Ward_Facility</th>\n      <th>Bed_Grade</th>\n      <th>City_Code_Patient</th>\n      <th>Type of Admission</th>\n      <th>Illness_Severity</th>\n      <th>Patient_Visitors</th>\n      <th>Age</th>\n      <th>Admission_Deposit</th>\n      <th>Stay_Days</th>\n    </tr>\n  </thead>\n  <tbody>\n    <tr>\n      <td>0</td>\n      <td>8</td>\n      <td>2</td>\n      <td>3</td>\n      <td>2</td>\n      <td>3</td>\n      <td>2</td>\n      <td>2</td>\n      <td>F</td>\n      <td>2.0</td>\n      <td>7.0</td>\n      <td>Emergency</td>\n      <td>Extreme</td>\n      <td>2</td>\n      <td>51-60</td>\n      <td>4911.0</td>\n      <td>0-10</td>\n    </tr>\n    <tr>\n      <td>1</td>\n      <td>2</td>\n      <td>2</td>\n      <td>5</td>\n      <td>2</td>\n      <td>2</td>\n      <td>2</td>\n      <td>3</td>\n      <td>F</td>\n      <td>2.0</td>\n      <td>7.0</td>\n      <td>Trauma</td>\n      <td>Extreme</td>\n      <td>2</td>\n      <td>51-60</td>\n      <td>5954.0</td>\n      <td>41-50</td>\n    </tr>\n    <tr>\n      <td>2</td>\n      <td>10</td>\n      <td>4</td>\n      <td>1</td>\n      <td>0</td>\n      <td>2</td>\n      <td>1</td>\n      <td>3</td>\n      <td>E</td>\n      <td>2.0</td>\n      <td>7.0</td>\n      <td>Trauma</td>\n      <td>Extreme</td>\n      <td>2</td>\n      <td>51-60</td>\n      <td>4745.0</td>\n      <td>31-40</td>\n    </tr>\n    <tr>\n      <td>3</td>\n      <td>26</td>\n      <td>1</td>\n      <td>2</td>\n      <td>1</td>\n      <td>2</td>\n      <td>2</td>\n      <td>2</td>\n      <td>D</td>\n      <td>2.0</td>\n      <td>7.0</td>\n      <td>Trauma</td>\n      <td>Extreme</td>\n      <td>2</td>\n      <td>51-60</td>\n      <td>7272.0</td>\n      <td>41-50</td>\n    </tr>\n    <tr>\n      <td>4</td>\n      <td>26</td>\n      <td>1</td>\n      <td>2</td>\n      <td>1</td>\n      <td>2</td>\n      <td>2</td>\n      <td>3</td>\n      <td>D</td>\n      <td>2.0</td>\n      <td>7.0</td>\n      <td>Trauma</td>\n      <td>Extreme</td>\n      <td>2</td>\n      <td>51-60</td>\n      <td>5558.0</td>\n      <td>41-50</td>\n    </tr>\n  </tbody>\n</table>\n</div>"
     },
     "metadata": {},
     "execution_count": 97
    }
   ],
   "source": [
    "\"\"\"\n",
    "    replacing Ward Type with integers\n",
    "\n",
    "    0 : P\n",
    "    1 : Q\n",
    "    2 : R\n",
    "    3 : S\n",
    "    4 : T\n",
    "    5 : U\n",
    "\"\"\"\n",
    "formatedData['Ward_Type'] = formatedData['Ward_Type'].replace(['P','Q','R','S','T','U'],[0,1,2,3,4,5])\n",
    "\n",
    "# formatedData = formatedData.replace(to_replace=\"P\",value=0)\n",
    "# formatedData = formatedData.replace(to_replace=\"Q\",value=1)\n",
    "# formatedData = formatedData.replace(to_replace=\"R\",value=2)\n",
    "# formatedData = formatedData.replace(to_replace=\"S\",value=3)\n",
    "# formatedData = formatedData.replace(to_replace=\"T\",value=4)\n",
    "# formatedData = formatedData.replace(to_replace=\"U\",value=5)\n",
    "\n",
    "formatedData.head()"
   ]
  },
  {
   "cell_type": "code",
   "execution_count": 98,
   "metadata": {},
   "outputs": [
    {
     "output_type": "execute_result",
     "data": {
      "text/plain": [
       "F    112753\n",
       "E     55351\n",
       "D     51809\n",
       "C     35463\n",
       "B     35156\n",
       "A     27906\n",
       "Name: Ward_Facility, dtype: int64"
      ]
     },
     "metadata": {},
     "execution_count": 98
    }
   ],
   "source": [
    "formatedData['Ward_Facility'].value_counts()"
   ]
  },
  {
   "cell_type": "code",
   "execution_count": 99,
   "metadata": {},
   "outputs": [
    {
     "output_type": "execute_result",
     "data": {
      "text/plain": [
       "   Hospital  Hospital_type  Hospital_city  Hospital_region  \\\n",
       "0         8              2              3                2   \n",
       "1         2              2              5                2   \n",
       "2        10              4              1                0   \n",
       "3        26              1              2                1   \n",
       "4        26              1              2                1   \n",
       "\n",
       "   Available_Extra_Rooms_in_Hospital  Department  Ward_Type  Ward_Facility  \\\n",
       "0                                  3           2          2              5   \n",
       "1                                  2           2          3              5   \n",
       "2                                  2           1          3              4   \n",
       "3                                  2           2          2              3   \n",
       "4                                  2           2          3              3   \n",
       "\n",
       "   Bed_Grade  City_Code_Patient Type of Admission Illness_Severity  \\\n",
       "0        2.0                7.0         Emergency          Extreme   \n",
       "1        2.0                7.0            Trauma          Extreme   \n",
       "2        2.0                7.0            Trauma          Extreme   \n",
       "3        2.0                7.0            Trauma          Extreme   \n",
       "4        2.0                7.0            Trauma          Extreme   \n",
       "\n",
       "   Patient_Visitors    Age  Admission_Deposit Stay_Days  \n",
       "0                 2  51-60             4911.0      0-10  \n",
       "1                 2  51-60             5954.0     41-50  \n",
       "2                 2  51-60             4745.0     31-40  \n",
       "3                 2  51-60             7272.0     41-50  \n",
       "4                 2  51-60             5558.0     41-50  "
      ],
      "text/html": "<div>\n<style scoped>\n    .dataframe tbody tr th:only-of-type {\n        vertical-align: middle;\n    }\n\n    .dataframe tbody tr th {\n        vertical-align: top;\n    }\n\n    .dataframe thead th {\n        text-align: right;\n    }\n</style>\n<table border=\"1\" class=\"dataframe\">\n  <thead>\n    <tr style=\"text-align: right;\">\n      <th></th>\n      <th>Hospital</th>\n      <th>Hospital_type</th>\n      <th>Hospital_city</th>\n      <th>Hospital_region</th>\n      <th>Available_Extra_Rooms_in_Hospital</th>\n      <th>Department</th>\n      <th>Ward_Type</th>\n      <th>Ward_Facility</th>\n      <th>Bed_Grade</th>\n      <th>City_Code_Patient</th>\n      <th>Type of Admission</th>\n      <th>Illness_Severity</th>\n      <th>Patient_Visitors</th>\n      <th>Age</th>\n      <th>Admission_Deposit</th>\n      <th>Stay_Days</th>\n    </tr>\n  </thead>\n  <tbody>\n    <tr>\n      <td>0</td>\n      <td>8</td>\n      <td>2</td>\n      <td>3</td>\n      <td>2</td>\n      <td>3</td>\n      <td>2</td>\n      <td>2</td>\n      <td>5</td>\n      <td>2.0</td>\n      <td>7.0</td>\n      <td>Emergency</td>\n      <td>Extreme</td>\n      <td>2</td>\n      <td>51-60</td>\n      <td>4911.0</td>\n      <td>0-10</td>\n    </tr>\n    <tr>\n      <td>1</td>\n      <td>2</td>\n      <td>2</td>\n      <td>5</td>\n      <td>2</td>\n      <td>2</td>\n      <td>2</td>\n      <td>3</td>\n      <td>5</td>\n      <td>2.0</td>\n      <td>7.0</td>\n      <td>Trauma</td>\n      <td>Extreme</td>\n      <td>2</td>\n      <td>51-60</td>\n      <td>5954.0</td>\n      <td>41-50</td>\n    </tr>\n    <tr>\n      <td>2</td>\n      <td>10</td>\n      <td>4</td>\n      <td>1</td>\n      <td>0</td>\n      <td>2</td>\n      <td>1</td>\n      <td>3</td>\n      <td>4</td>\n      <td>2.0</td>\n      <td>7.0</td>\n      <td>Trauma</td>\n      <td>Extreme</td>\n      <td>2</td>\n      <td>51-60</td>\n      <td>4745.0</td>\n      <td>31-40</td>\n    </tr>\n    <tr>\n      <td>3</td>\n      <td>26</td>\n      <td>1</td>\n      <td>2</td>\n      <td>1</td>\n      <td>2</td>\n      <td>2</td>\n      <td>2</td>\n      <td>3</td>\n      <td>2.0</td>\n      <td>7.0</td>\n      <td>Trauma</td>\n      <td>Extreme</td>\n      <td>2</td>\n      <td>51-60</td>\n      <td>7272.0</td>\n      <td>41-50</td>\n    </tr>\n    <tr>\n      <td>4</td>\n      <td>26</td>\n      <td>1</td>\n      <td>2</td>\n      <td>1</td>\n      <td>2</td>\n      <td>2</td>\n      <td>3</td>\n      <td>3</td>\n      <td>2.0</td>\n      <td>7.0</td>\n      <td>Trauma</td>\n      <td>Extreme</td>\n      <td>2</td>\n      <td>51-60</td>\n      <td>5558.0</td>\n      <td>41-50</td>\n    </tr>\n  </tbody>\n</table>\n</div>"
     },
     "metadata": {},
     "execution_count": 99
    }
   ],
   "source": [
    "\"\"\"\n",
    "    replacing Ward Facility values with integers\n",
    "\n",
    "    0 : A\n",
    "    1 : B\n",
    "    2 : C\n",
    "    3 : D\n",
    "    4 : E\n",
    "    5 : F\n",
    "\n",
    "\"\"\"\n",
    "formatedData['Ward_Facility'] = formatedData['Ward_Facility'].replace([\"A\",\"B\",\"C\",\"D\",\"E\",\"F\"],[0,1,2,3,4,5])\n",
    "# formatedData = formatedData.replace(to_replace=\"A\",value=0)\n",
    "# formatedData = formatedData.replace(to_replace=\"B\",value=1)\n",
    "# formatedData = formatedData.replace(to_replace=\"C\",value=2)\n",
    "# formatedData = formatedData.replace(to_replace=\"D\",value=3)\n",
    "# formatedData = formatedData.replace(to_replace=\"E\",value=4)\n",
    "# formatedData = formatedData.replace(to_replace=\"F\",value=5)\n",
    "\n",
    "formatedData.head()"
   ]
  },
  {
   "cell_type": "code",
   "execution_count": 100,
   "metadata": {},
   "outputs": [
    {
     "output_type": "execute_result",
     "data": {
      "text/plain": [
       "Trauma       152261\n",
       "Emergency    117676\n",
       "Urgent        48501\n",
       "Name: Type of Admission, dtype: int64"
      ]
     },
     "metadata": {},
     "execution_count": 100
    }
   ],
   "source": [
    "#Type of Admission#\n",
    "formatedData['Type of Admission'].value_counts()"
   ]
  },
  {
   "cell_type": "code",
   "execution_count": 101,
   "metadata": {},
   "outputs": [
    {
     "output_type": "execute_result",
     "data": {
      "text/plain": [
       "   Hospital  Hospital_type  Hospital_city  Hospital_region  \\\n",
       "0         8              2              3                2   \n",
       "1         2              2              5                2   \n",
       "2        10              4              1                0   \n",
       "3        26              1              2                1   \n",
       "4        26              1              2                1   \n",
       "\n",
       "   Available_Extra_Rooms_in_Hospital  Department  Ward_Type  Ward_Facility  \\\n",
       "0                                  3           2          2              5   \n",
       "1                                  2           2          3              5   \n",
       "2                                  2           1          3              4   \n",
       "3                                  2           2          2              3   \n",
       "4                                  2           2          3              3   \n",
       "\n",
       "   Bed_Grade  City_Code_Patient  Type of Admission Illness_Severity  \\\n",
       "0        2.0                7.0                  1          Extreme   \n",
       "1        2.0                7.0                  0          Extreme   \n",
       "2        2.0                7.0                  0          Extreme   \n",
       "3        2.0                7.0                  0          Extreme   \n",
       "4        2.0                7.0                  0          Extreme   \n",
       "\n",
       "   Patient_Visitors    Age  Admission_Deposit Stay_Days  \n",
       "0                 2  51-60             4911.0      0-10  \n",
       "1                 2  51-60             5954.0     41-50  \n",
       "2                 2  51-60             4745.0     31-40  \n",
       "3                 2  51-60             7272.0     41-50  \n",
       "4                 2  51-60             5558.0     41-50  "
      ],
      "text/html": "<div>\n<style scoped>\n    .dataframe tbody tr th:only-of-type {\n        vertical-align: middle;\n    }\n\n    .dataframe tbody tr th {\n        vertical-align: top;\n    }\n\n    .dataframe thead th {\n        text-align: right;\n    }\n</style>\n<table border=\"1\" class=\"dataframe\">\n  <thead>\n    <tr style=\"text-align: right;\">\n      <th></th>\n      <th>Hospital</th>\n      <th>Hospital_type</th>\n      <th>Hospital_city</th>\n      <th>Hospital_region</th>\n      <th>Available_Extra_Rooms_in_Hospital</th>\n      <th>Department</th>\n      <th>Ward_Type</th>\n      <th>Ward_Facility</th>\n      <th>Bed_Grade</th>\n      <th>City_Code_Patient</th>\n      <th>Type of Admission</th>\n      <th>Illness_Severity</th>\n      <th>Patient_Visitors</th>\n      <th>Age</th>\n      <th>Admission_Deposit</th>\n      <th>Stay_Days</th>\n    </tr>\n  </thead>\n  <tbody>\n    <tr>\n      <td>0</td>\n      <td>8</td>\n      <td>2</td>\n      <td>3</td>\n      <td>2</td>\n      <td>3</td>\n      <td>2</td>\n      <td>2</td>\n      <td>5</td>\n      <td>2.0</td>\n      <td>7.0</td>\n      <td>1</td>\n      <td>Extreme</td>\n      <td>2</td>\n      <td>51-60</td>\n      <td>4911.0</td>\n      <td>0-10</td>\n    </tr>\n    <tr>\n      <td>1</td>\n      <td>2</td>\n      <td>2</td>\n      <td>5</td>\n      <td>2</td>\n      <td>2</td>\n      <td>2</td>\n      <td>3</td>\n      <td>5</td>\n      <td>2.0</td>\n      <td>7.0</td>\n      <td>0</td>\n      <td>Extreme</td>\n      <td>2</td>\n      <td>51-60</td>\n      <td>5954.0</td>\n      <td>41-50</td>\n    </tr>\n    <tr>\n      <td>2</td>\n      <td>10</td>\n      <td>4</td>\n      <td>1</td>\n      <td>0</td>\n      <td>2</td>\n      <td>1</td>\n      <td>3</td>\n      <td>4</td>\n      <td>2.0</td>\n      <td>7.0</td>\n      <td>0</td>\n      <td>Extreme</td>\n      <td>2</td>\n      <td>51-60</td>\n      <td>4745.0</td>\n      <td>31-40</td>\n    </tr>\n    <tr>\n      <td>3</td>\n      <td>26</td>\n      <td>1</td>\n      <td>2</td>\n      <td>1</td>\n      <td>2</td>\n      <td>2</td>\n      <td>2</td>\n      <td>3</td>\n      <td>2.0</td>\n      <td>7.0</td>\n      <td>0</td>\n      <td>Extreme</td>\n      <td>2</td>\n      <td>51-60</td>\n      <td>7272.0</td>\n      <td>41-50</td>\n    </tr>\n    <tr>\n      <td>4</td>\n      <td>26</td>\n      <td>1</td>\n      <td>2</td>\n      <td>1</td>\n      <td>2</td>\n      <td>2</td>\n      <td>3</td>\n      <td>3</td>\n      <td>2.0</td>\n      <td>7.0</td>\n      <td>0</td>\n      <td>Extreme</td>\n      <td>2</td>\n      <td>51-60</td>\n      <td>5558.0</td>\n      <td>41-50</td>\n    </tr>\n  </tbody>\n</table>\n</div>"
     },
     "metadata": {},
     "execution_count": 101
    }
   ],
   "source": [
    "\"\"\"\n",
    "    Replacing Type of Admission values with integers\n",
    "\n",
    "    0 : Trauma\n",
    "    1 : Emergency\n",
    "    2 : Urgent\n",
    "\"\"\"\n",
    "formatedData['Type of Admission'] = formatedData['Type of Admission'].replace([\"Trauma\",\"Emergency\",\"Urgent\"],[0,1,2])\n",
    "# formatedData = formatedData.replace(to_replace=\"Trauma\",value=0)\n",
    "# formatedData = formatedData.replace(to_replace=\"Emergency\",value=1)\n",
    "# formatedData = formatedData.replace(to_replace=\"Urgent\",value=2)\n",
    "\n",
    "formatedData.head()"
   ]
  },
  {
   "cell_type": "code",
   "execution_count": 102,
   "metadata": {},
   "outputs": [
    {
     "output_type": "execute_result",
     "data": {
      "text/plain": [
       "Moderate    175843\n",
       "Minor        85872\n",
       "Extreme      56723\n",
       "Name: Illness_Severity, dtype: int64"
      ]
     },
     "metadata": {},
     "execution_count": 102
    }
   ],
   "source": [
    "#illness serverity#\n",
    "formatedData['Illness_Severity'].value_counts()"
   ]
  },
  {
   "cell_type": "code",
   "execution_count": 103,
   "metadata": {},
   "outputs": [
    {
     "output_type": "execute_result",
     "data": {
      "text/plain": [
       "   Hospital  Hospital_type  Hospital_city  Hospital_region  \\\n",
       "0         8              2              3                2   \n",
       "1         2              2              5                2   \n",
       "2        10              4              1                0   \n",
       "3        26              1              2                1   \n",
       "4        26              1              2                1   \n",
       "\n",
       "   Available_Extra_Rooms_in_Hospital  Department  Ward_Type  Ward_Facility  \\\n",
       "0                                  3           2          2              5   \n",
       "1                                  2           2          3              5   \n",
       "2                                  2           1          3              4   \n",
       "3                                  2           2          2              3   \n",
       "4                                  2           2          3              3   \n",
       "\n",
       "   Bed_Grade  City_Code_Patient  Type of Admission  Illness_Severity  \\\n",
       "0        2.0                7.0                  1                 2   \n",
       "1        2.0                7.0                  0                 2   \n",
       "2        2.0                7.0                  0                 2   \n",
       "3        2.0                7.0                  0                 2   \n",
       "4        2.0                7.0                  0                 2   \n",
       "\n",
       "   Patient_Visitors    Age  Admission_Deposit Stay_Days  \n",
       "0                 2  51-60             4911.0      0-10  \n",
       "1                 2  51-60             5954.0     41-50  \n",
       "2                 2  51-60             4745.0     31-40  \n",
       "3                 2  51-60             7272.0     41-50  \n",
       "4                 2  51-60             5558.0     41-50  "
      ],
      "text/html": "<div>\n<style scoped>\n    .dataframe tbody tr th:only-of-type {\n        vertical-align: middle;\n    }\n\n    .dataframe tbody tr th {\n        vertical-align: top;\n    }\n\n    .dataframe thead th {\n        text-align: right;\n    }\n</style>\n<table border=\"1\" class=\"dataframe\">\n  <thead>\n    <tr style=\"text-align: right;\">\n      <th></th>\n      <th>Hospital</th>\n      <th>Hospital_type</th>\n      <th>Hospital_city</th>\n      <th>Hospital_region</th>\n      <th>Available_Extra_Rooms_in_Hospital</th>\n      <th>Department</th>\n      <th>Ward_Type</th>\n      <th>Ward_Facility</th>\n      <th>Bed_Grade</th>\n      <th>City_Code_Patient</th>\n      <th>Type of Admission</th>\n      <th>Illness_Severity</th>\n      <th>Patient_Visitors</th>\n      <th>Age</th>\n      <th>Admission_Deposit</th>\n      <th>Stay_Days</th>\n    </tr>\n  </thead>\n  <tbody>\n    <tr>\n      <td>0</td>\n      <td>8</td>\n      <td>2</td>\n      <td>3</td>\n      <td>2</td>\n      <td>3</td>\n      <td>2</td>\n      <td>2</td>\n      <td>5</td>\n      <td>2.0</td>\n      <td>7.0</td>\n      <td>1</td>\n      <td>2</td>\n      <td>2</td>\n      <td>51-60</td>\n      <td>4911.0</td>\n      <td>0-10</td>\n    </tr>\n    <tr>\n      <td>1</td>\n      <td>2</td>\n      <td>2</td>\n      <td>5</td>\n      <td>2</td>\n      <td>2</td>\n      <td>2</td>\n      <td>3</td>\n      <td>5</td>\n      <td>2.0</td>\n      <td>7.0</td>\n      <td>0</td>\n      <td>2</td>\n      <td>2</td>\n      <td>51-60</td>\n      <td>5954.0</td>\n      <td>41-50</td>\n    </tr>\n    <tr>\n      <td>2</td>\n      <td>10</td>\n      <td>4</td>\n      <td>1</td>\n      <td>0</td>\n      <td>2</td>\n      <td>1</td>\n      <td>3</td>\n      <td>4</td>\n      <td>2.0</td>\n      <td>7.0</td>\n      <td>0</td>\n      <td>2</td>\n      <td>2</td>\n      <td>51-60</td>\n      <td>4745.0</td>\n      <td>31-40</td>\n    </tr>\n    <tr>\n      <td>3</td>\n      <td>26</td>\n      <td>1</td>\n      <td>2</td>\n      <td>1</td>\n      <td>2</td>\n      <td>2</td>\n      <td>2</td>\n      <td>3</td>\n      <td>2.0</td>\n      <td>7.0</td>\n      <td>0</td>\n      <td>2</td>\n      <td>2</td>\n      <td>51-60</td>\n      <td>7272.0</td>\n      <td>41-50</td>\n    </tr>\n    <tr>\n      <td>4</td>\n      <td>26</td>\n      <td>1</td>\n      <td>2</td>\n      <td>1</td>\n      <td>2</td>\n      <td>2</td>\n      <td>3</td>\n      <td>3</td>\n      <td>2.0</td>\n      <td>7.0</td>\n      <td>0</td>\n      <td>2</td>\n      <td>2</td>\n      <td>51-60</td>\n      <td>5558.0</td>\n      <td>41-50</td>\n    </tr>\n  </tbody>\n</table>\n</div>"
     },
     "metadata": {},
     "execution_count": 103
    }
   ],
   "source": [
    "\"\"\"\n",
    "    Replacing Illness Severity values with integers\n",
    "\n",
    "    0 : Moderate\n",
    "    1 : Minor\n",
    "    2 : Extreme\n",
    "\"\"\"\n",
    "\n",
    "formatedData['Illness_Severity'] = formatedData['Illness_Severity'].replace([\"Moderate\",\"Minor\",\"Extreme\"],[0,1,2])\n",
    "\n",
    "# formatedData = formatedData.replace(to_replace=\"Moderate\",value=0)\n",
    "# formatedData = formatedData.replace(to_replace=\"Minor\",value=1)\n",
    "# formatedData = formatedData.replace(to_replace=\"Extreme\",value=2)\n",
    "\n",
    "formatedData.head()"
   ]
  },
  {
   "cell_type": "code",
   "execution_count": 104,
   "metadata": {},
   "outputs": [
    {
     "output_type": "execute_result",
     "data": {
      "text/plain": [
       "41-50     63749\n",
       "31-40     63639\n",
       "51-60     48514\n",
       "21-30     40843\n",
       "71-80     35792\n",
       "61-70     33687\n",
       "11-20     16768\n",
       "81-90      7890\n",
       "0-10       6254\n",
       "91-100     1302\n",
       "Name: Age, dtype: int64"
      ]
     },
     "metadata": {},
     "execution_count": 104
    }
   ],
   "source": [
    "#Age brackets#\n",
    "formatedData['Age'].value_counts()"
   ]
  },
  {
   "cell_type": "code",
   "execution_count": 105,
   "metadata": {},
   "outputs": [
    {
     "output_type": "execute_result",
     "data": {
      "text/plain": [
       "   Hospital  Hospital_type  Hospital_city  Hospital_region  \\\n",
       "0         8              2              3                2   \n",
       "1         2              2              5                2   \n",
       "2        10              4              1                0   \n",
       "3        26              1              2                1   \n",
       "4        26              1              2                1   \n",
       "\n",
       "   Available_Extra_Rooms_in_Hospital  Department  Ward_Type  Ward_Facility  \\\n",
       "0                                  3           2          2              5   \n",
       "1                                  2           2          3              5   \n",
       "2                                  2           1          3              4   \n",
       "3                                  2           2          2              3   \n",
       "4                                  2           2          3              3   \n",
       "\n",
       "   Bed_Grade  City_Code_Patient  Type of Admission  Illness_Severity  \\\n",
       "0        2.0                7.0                  1                 2   \n",
       "1        2.0                7.0                  0                 2   \n",
       "2        2.0                7.0                  0                 2   \n",
       "3        2.0                7.0                  0                 2   \n",
       "4        2.0                7.0                  0                 2   \n",
       "\n",
       "   Patient_Visitors  Age  Admission_Deposit Stay_Days  \n",
       "0                 2    5             4911.0      0-10  \n",
       "1                 2    5             5954.0     41-50  \n",
       "2                 2    5             4745.0     31-40  \n",
       "3                 2    5             7272.0     41-50  \n",
       "4                 2    5             5558.0     41-50  "
      ],
      "text/html": "<div>\n<style scoped>\n    .dataframe tbody tr th:only-of-type {\n        vertical-align: middle;\n    }\n\n    .dataframe tbody tr th {\n        vertical-align: top;\n    }\n\n    .dataframe thead th {\n        text-align: right;\n    }\n</style>\n<table border=\"1\" class=\"dataframe\">\n  <thead>\n    <tr style=\"text-align: right;\">\n      <th></th>\n      <th>Hospital</th>\n      <th>Hospital_type</th>\n      <th>Hospital_city</th>\n      <th>Hospital_region</th>\n      <th>Available_Extra_Rooms_in_Hospital</th>\n      <th>Department</th>\n      <th>Ward_Type</th>\n      <th>Ward_Facility</th>\n      <th>Bed_Grade</th>\n      <th>City_Code_Patient</th>\n      <th>Type of Admission</th>\n      <th>Illness_Severity</th>\n      <th>Patient_Visitors</th>\n      <th>Age</th>\n      <th>Admission_Deposit</th>\n      <th>Stay_Days</th>\n    </tr>\n  </thead>\n  <tbody>\n    <tr>\n      <td>0</td>\n      <td>8</td>\n      <td>2</td>\n      <td>3</td>\n      <td>2</td>\n      <td>3</td>\n      <td>2</td>\n      <td>2</td>\n      <td>5</td>\n      <td>2.0</td>\n      <td>7.0</td>\n      <td>1</td>\n      <td>2</td>\n      <td>2</td>\n      <td>5</td>\n      <td>4911.0</td>\n      <td>0-10</td>\n    </tr>\n    <tr>\n      <td>1</td>\n      <td>2</td>\n      <td>2</td>\n      <td>5</td>\n      <td>2</td>\n      <td>2</td>\n      <td>2</td>\n      <td>3</td>\n      <td>5</td>\n      <td>2.0</td>\n      <td>7.0</td>\n      <td>0</td>\n      <td>2</td>\n      <td>2</td>\n      <td>5</td>\n      <td>5954.0</td>\n      <td>41-50</td>\n    </tr>\n    <tr>\n      <td>2</td>\n      <td>10</td>\n      <td>4</td>\n      <td>1</td>\n      <td>0</td>\n      <td>2</td>\n      <td>1</td>\n      <td>3</td>\n      <td>4</td>\n      <td>2.0</td>\n      <td>7.0</td>\n      <td>0</td>\n      <td>2</td>\n      <td>2</td>\n      <td>5</td>\n      <td>4745.0</td>\n      <td>31-40</td>\n    </tr>\n    <tr>\n      <td>3</td>\n      <td>26</td>\n      <td>1</td>\n      <td>2</td>\n      <td>1</td>\n      <td>2</td>\n      <td>2</td>\n      <td>2</td>\n      <td>3</td>\n      <td>2.0</td>\n      <td>7.0</td>\n      <td>0</td>\n      <td>2</td>\n      <td>2</td>\n      <td>5</td>\n      <td>7272.0</td>\n      <td>41-50</td>\n    </tr>\n    <tr>\n      <td>4</td>\n      <td>26</td>\n      <td>1</td>\n      <td>2</td>\n      <td>1</td>\n      <td>2</td>\n      <td>2</td>\n      <td>3</td>\n      <td>3</td>\n      <td>2.0</td>\n      <td>7.0</td>\n      <td>0</td>\n      <td>2</td>\n      <td>2</td>\n      <td>5</td>\n      <td>5558.0</td>\n      <td>41-50</td>\n    </tr>\n  </tbody>\n</table>\n</div>"
     },
     "metadata": {},
     "execution_count": 105
    }
   ],
   "source": [
    "\"\"\"\n",
    "    replacing Age brackets with integers\n",
    "\n",
    "    0 : 0-10\n",
    "    1 : 11-20\n",
    "    2 : 21-30\n",
    "    3 : 31-40\n",
    "    4 : 41-50\n",
    "    5 : 51-60\n",
    "    6 : 61-70\n",
    "    7 : 71-80\n",
    "    8 : 81-90\n",
    "    9 : 91-100\n",
    "\"\"\"\n",
    "\n",
    "formatedData[\"Age\"] = formatedData[\"Age\"].replace(['0-10','11-20','21-30','31-40','41-50','51-60','61-70','71-80','81-90','91-100'],[0,1,2,3,4,5,6,7,8,9])\n",
    "\n",
    "formatedData.head()"
   ]
  },
  {
   "cell_type": "code",
   "execution_count": 106,
   "metadata": {},
   "outputs": [
    {
     "output_type": "execute_result",
     "data": {
      "text/plain": [
       "21-30                 87491\n",
       "11-20                 78139\n",
       "31-40                 55159\n",
       "51-60                 35018\n",
       "0-10                  23604\n",
       "41-50                 11743\n",
       "71-80                 10254\n",
       "More than 100 Days     6683\n",
       "81-90                  4838\n",
       "91-100                 2765\n",
       "61-70                  2744\n",
       "Name: Stay_Days, dtype: int64"
      ]
     },
     "metadata": {},
     "execution_count": 106
    }
   ],
   "source": [
    "#the amount of days the patient might stay#\n",
    "formatedData['Stay_Days'].value_counts()"
   ]
  },
  {
   "cell_type": "code",
   "execution_count": 108,
   "metadata": {},
   "outputs": [
    {
     "output_type": "error",
     "ename": "TypeError",
     "evalue": "Cannot compare types 'ndarray(dtype=int64)' and 'str'",
     "traceback": [
      "\u001b[0;31m---------------------------------------------------------------------------\u001b[0m",
      "\u001b[0;31mTypeError\u001b[0m                                 Traceback (most recent call last)",
      "\u001b[0;32m<ipython-input-108-7973ace128c7>\u001b[0m in \u001b[0;36m<module>\u001b[0;34m\u001b[0m\n\u001b[1;32m     15\u001b[0m \"\"\"\n\u001b[1;32m     16\u001b[0m \u001b[0;34m\u001b[0m\u001b[0m\n\u001b[0;32m---> 17\u001b[0;31m \u001b[0mformatedData\u001b[0m\u001b[0;34m[\u001b[0m\u001b[0;34m'Stay_Days'\u001b[0m\u001b[0;34m]\u001b[0m \u001b[0;34m=\u001b[0m \u001b[0mformatedData\u001b[0m\u001b[0;34m[\u001b[0m\u001b[0;34m'Stay_Days'\u001b[0m\u001b[0;34m]\u001b[0m\u001b[0;34m.\u001b[0m\u001b[0mreplace\u001b[0m\u001b[0;34m(\u001b[0m\u001b[0;34m[\u001b[0m\u001b[0;34m'0-10'\u001b[0m\u001b[0;34m,\u001b[0m\u001b[0;34m'11-20'\u001b[0m\u001b[0;34m,\u001b[0m\u001b[0;34m'21-30'\u001b[0m\u001b[0;34m,\u001b[0m\u001b[0;34m'31-40'\u001b[0m\u001b[0;34m,\u001b[0m\u001b[0;34m'41-50'\u001b[0m\u001b[0;34m,\u001b[0m\u001b[0;34m'51-60'\u001b[0m\u001b[0;34m,\u001b[0m\u001b[0;34m'61-70'\u001b[0m\u001b[0;34m,\u001b[0m\u001b[0;34m'71-80'\u001b[0m\u001b[0;34m,\u001b[0m\u001b[0;34m'81-90'\u001b[0m\u001b[0;34m,\u001b[0m\u001b[0;34m'91-100'\u001b[0m\u001b[0;34m,\u001b[0m\u001b[0;34m'More than 100 Days'\u001b[0m\u001b[0;34m]\u001b[0m\u001b[0;34m,\u001b[0m\u001b[0;34m[\u001b[0m\u001b[0;36m0\u001b[0m\u001b[0;34m,\u001b[0m\u001b[0;36m1\u001b[0m\u001b[0;34m,\u001b[0m\u001b[0;36m2\u001b[0m\u001b[0;34m,\u001b[0m\u001b[0;36m3\u001b[0m\u001b[0;34m,\u001b[0m\u001b[0;36m4\u001b[0m\u001b[0;34m,\u001b[0m\u001b[0;36m5\u001b[0m\u001b[0;34m,\u001b[0m\u001b[0;36m6\u001b[0m\u001b[0;34m,\u001b[0m\u001b[0;36m7\u001b[0m\u001b[0;34m,\u001b[0m\u001b[0;36m8\u001b[0m\u001b[0;34m,\u001b[0m\u001b[0;36m9\u001b[0m\u001b[0;34m,\u001b[0m\u001b[0;36m10\u001b[0m\u001b[0;34m]\u001b[0m\u001b[0;34m)\u001b[0m\u001b[0;34m\u001b[0m\u001b[0;34m\u001b[0m\u001b[0m\n\u001b[0m\u001b[1;32m     18\u001b[0m \u001b[0;34m\u001b[0m\u001b[0m\n\u001b[1;32m     19\u001b[0m \u001b[0mformatedData\u001b[0m\u001b[0;34m.\u001b[0m\u001b[0mhead\u001b[0m\u001b[0;34m(\u001b[0m\u001b[0;34m)\u001b[0m\u001b[0;34m\u001b[0m\u001b[0;34m\u001b[0m\u001b[0m\n",
      "\u001b[0;32m~/anaconda3/lib/python3.7/site-packages/pandas/core/series.py\u001b[0m in \u001b[0;36mreplace\u001b[0;34m(self, to_replace, value, inplace, limit, regex, method)\u001b[0m\n\u001b[1;32m   4362\u001b[0m             \u001b[0mlimit\u001b[0m\u001b[0;34m=\u001b[0m\u001b[0mlimit\u001b[0m\u001b[0;34m,\u001b[0m\u001b[0;34m\u001b[0m\u001b[0;34m\u001b[0m\u001b[0m\n\u001b[1;32m   4363\u001b[0m             \u001b[0mregex\u001b[0m\u001b[0;34m=\u001b[0m\u001b[0mregex\u001b[0m\u001b[0;34m,\u001b[0m\u001b[0;34m\u001b[0m\u001b[0;34m\u001b[0m\u001b[0m\n\u001b[0;32m-> 4364\u001b[0;31m             \u001b[0mmethod\u001b[0m\u001b[0;34m=\u001b[0m\u001b[0mmethod\u001b[0m\u001b[0;34m,\u001b[0m\u001b[0;34m\u001b[0m\u001b[0;34m\u001b[0m\u001b[0m\n\u001b[0m\u001b[1;32m   4365\u001b[0m         )\n\u001b[1;32m   4366\u001b[0m \u001b[0;34m\u001b[0m\u001b[0m\n",
      "\u001b[0;32m~/anaconda3/lib/python3.7/site-packages/pandas/core/generic.py\u001b[0m in \u001b[0;36mreplace\u001b[0;34m(self, to_replace, value, inplace, limit, regex, method)\u001b[0m\n\u001b[1;32m   6734\u001b[0m                         \u001b[0mdest_list\u001b[0m\u001b[0;34m=\u001b[0m\u001b[0mvalue\u001b[0m\u001b[0;34m,\u001b[0m\u001b[0;34m\u001b[0m\u001b[0;34m\u001b[0m\u001b[0m\n\u001b[1;32m   6735\u001b[0m                         \u001b[0minplace\u001b[0m\u001b[0;34m=\u001b[0m\u001b[0minplace\u001b[0m\u001b[0;34m,\u001b[0m\u001b[0;34m\u001b[0m\u001b[0;34m\u001b[0m\u001b[0m\n\u001b[0;32m-> 6736\u001b[0;31m                         \u001b[0mregex\u001b[0m\u001b[0;34m=\u001b[0m\u001b[0mregex\u001b[0m\u001b[0;34m,\u001b[0m\u001b[0;34m\u001b[0m\u001b[0;34m\u001b[0m\u001b[0m\n\u001b[0m\u001b[1;32m   6737\u001b[0m                     )\n\u001b[1;32m   6738\u001b[0m \u001b[0;34m\u001b[0m\u001b[0m\n",
      "\u001b[0;32m~/anaconda3/lib/python3.7/site-packages/pandas/core/internals/managers.py\u001b[0m in \u001b[0;36mreplace_list\u001b[0;34m(self, src_list, dest_list, inplace, regex)\u001b[0m\n\u001b[1;32m    610\u001b[0m             \u001b[0;32mreturn\u001b[0m \u001b[0m_compare_or_regex_search\u001b[0m\u001b[0;34m(\u001b[0m\u001b[0mvalues\u001b[0m\u001b[0;34m,\u001b[0m \u001b[0ms\u001b[0m\u001b[0;34m,\u001b[0m \u001b[0mregex\u001b[0m\u001b[0;34m)\u001b[0m\u001b[0;34m\u001b[0m\u001b[0;34m\u001b[0m\u001b[0m\n\u001b[1;32m    611\u001b[0m \u001b[0;34m\u001b[0m\u001b[0m\n\u001b[0;32m--> 612\u001b[0;31m         \u001b[0mmasks\u001b[0m \u001b[0;34m=\u001b[0m \u001b[0;34m[\u001b[0m\u001b[0mcomp\u001b[0m\u001b[0;34m(\u001b[0m\u001b[0ms\u001b[0m\u001b[0;34m,\u001b[0m \u001b[0mregex\u001b[0m\u001b[0;34m)\u001b[0m \u001b[0;32mfor\u001b[0m \u001b[0mi\u001b[0m\u001b[0;34m,\u001b[0m \u001b[0ms\u001b[0m \u001b[0;32min\u001b[0m \u001b[0menumerate\u001b[0m\u001b[0;34m(\u001b[0m\u001b[0msrc_list\u001b[0m\u001b[0;34m)\u001b[0m\u001b[0;34m]\u001b[0m\u001b[0;34m\u001b[0m\u001b[0;34m\u001b[0m\u001b[0m\n\u001b[0m\u001b[1;32m    613\u001b[0m \u001b[0;34m\u001b[0m\u001b[0m\n\u001b[1;32m    614\u001b[0m         \u001b[0mresult_blocks\u001b[0m \u001b[0;34m=\u001b[0m \u001b[0;34m[\u001b[0m\u001b[0;34m]\u001b[0m\u001b[0;34m\u001b[0m\u001b[0;34m\u001b[0m\u001b[0m\n",
      "\u001b[0;32m~/anaconda3/lib/python3.7/site-packages/pandas/core/internals/managers.py\u001b[0m in \u001b[0;36m<listcomp>\u001b[0;34m(.0)\u001b[0m\n\u001b[1;32m    610\u001b[0m             \u001b[0;32mreturn\u001b[0m \u001b[0m_compare_or_regex_search\u001b[0m\u001b[0;34m(\u001b[0m\u001b[0mvalues\u001b[0m\u001b[0;34m,\u001b[0m \u001b[0ms\u001b[0m\u001b[0;34m,\u001b[0m \u001b[0mregex\u001b[0m\u001b[0;34m)\u001b[0m\u001b[0;34m\u001b[0m\u001b[0;34m\u001b[0m\u001b[0m\n\u001b[1;32m    611\u001b[0m \u001b[0;34m\u001b[0m\u001b[0m\n\u001b[0;32m--> 612\u001b[0;31m         \u001b[0mmasks\u001b[0m \u001b[0;34m=\u001b[0m \u001b[0;34m[\u001b[0m\u001b[0mcomp\u001b[0m\u001b[0;34m(\u001b[0m\u001b[0ms\u001b[0m\u001b[0;34m,\u001b[0m \u001b[0mregex\u001b[0m\u001b[0;34m)\u001b[0m \u001b[0;32mfor\u001b[0m \u001b[0mi\u001b[0m\u001b[0;34m,\u001b[0m \u001b[0ms\u001b[0m \u001b[0;32min\u001b[0m \u001b[0menumerate\u001b[0m\u001b[0;34m(\u001b[0m\u001b[0msrc_list\u001b[0m\u001b[0;34m)\u001b[0m\u001b[0;34m]\u001b[0m\u001b[0;34m\u001b[0m\u001b[0;34m\u001b[0m\u001b[0m\n\u001b[0m\u001b[1;32m    613\u001b[0m \u001b[0;34m\u001b[0m\u001b[0m\n\u001b[1;32m    614\u001b[0m         \u001b[0mresult_blocks\u001b[0m \u001b[0;34m=\u001b[0m \u001b[0;34m[\u001b[0m\u001b[0;34m]\u001b[0m\u001b[0;34m\u001b[0m\u001b[0;34m\u001b[0m\u001b[0m\n",
      "\u001b[0;32m~/anaconda3/lib/python3.7/site-packages/pandas/core/internals/managers.py\u001b[0m in \u001b[0;36mcomp\u001b[0;34m(s, regex)\u001b[0m\n\u001b[1;32m    608\u001b[0m                     \u001b[0mmaybe_convert_objects\u001b[0m\u001b[0;34m(\u001b[0m\u001b[0mvalues\u001b[0m\u001b[0;34m)\u001b[0m\u001b[0;34m,\u001b[0m \u001b[0ms\u001b[0m\u001b[0;34m.\u001b[0m\u001b[0masm8\u001b[0m\u001b[0;34m,\u001b[0m \u001b[0mregex\u001b[0m\u001b[0;34m\u001b[0m\u001b[0;34m\u001b[0m\u001b[0m\n\u001b[1;32m    609\u001b[0m                 )\n\u001b[0;32m--> 610\u001b[0;31m             \u001b[0;32mreturn\u001b[0m \u001b[0m_compare_or_regex_search\u001b[0m\u001b[0;34m(\u001b[0m\u001b[0mvalues\u001b[0m\u001b[0;34m,\u001b[0m \u001b[0ms\u001b[0m\u001b[0;34m,\u001b[0m \u001b[0mregex\u001b[0m\u001b[0;34m)\u001b[0m\u001b[0;34m\u001b[0m\u001b[0;34m\u001b[0m\u001b[0m\n\u001b[0m\u001b[1;32m    611\u001b[0m \u001b[0;34m\u001b[0m\u001b[0m\n\u001b[1;32m    612\u001b[0m         \u001b[0mmasks\u001b[0m \u001b[0;34m=\u001b[0m \u001b[0;34m[\u001b[0m\u001b[0mcomp\u001b[0m\u001b[0;34m(\u001b[0m\u001b[0ms\u001b[0m\u001b[0;34m,\u001b[0m \u001b[0mregex\u001b[0m\u001b[0;34m)\u001b[0m \u001b[0;32mfor\u001b[0m \u001b[0mi\u001b[0m\u001b[0;34m,\u001b[0m \u001b[0ms\u001b[0m \u001b[0;32min\u001b[0m \u001b[0menumerate\u001b[0m\u001b[0;34m(\u001b[0m\u001b[0msrc_list\u001b[0m\u001b[0;34m)\u001b[0m\u001b[0;34m]\u001b[0m\u001b[0;34m\u001b[0m\u001b[0;34m\u001b[0m\u001b[0m\n",
      "\u001b[0;32m~/anaconda3/lib/python3.7/site-packages/pandas/core/internals/managers.py\u001b[0m in \u001b[0;36m_compare_or_regex_search\u001b[0;34m(a, b, regex)\u001b[0m\n\u001b[1;32m   1965\u001b[0m         raise TypeError(\n\u001b[1;32m   1966\u001b[0m             \"Cannot compare types {a!r} and {b!r}\".format(\n\u001b[0;32m-> 1967\u001b[0;31m                 \u001b[0ma\u001b[0m\u001b[0;34m=\u001b[0m\u001b[0mtype_names\u001b[0m\u001b[0;34m[\u001b[0m\u001b[0;36m0\u001b[0m\u001b[0;34m]\u001b[0m\u001b[0;34m,\u001b[0m \u001b[0mb\u001b[0m\u001b[0;34m=\u001b[0m\u001b[0mtype_names\u001b[0m\u001b[0;34m[\u001b[0m\u001b[0;36m1\u001b[0m\u001b[0;34m]\u001b[0m\u001b[0;34m\u001b[0m\u001b[0;34m\u001b[0m\u001b[0m\n\u001b[0m\u001b[1;32m   1968\u001b[0m             )\n\u001b[1;32m   1969\u001b[0m         )\n",
      "\u001b[0;31mTypeError\u001b[0m: Cannot compare types 'ndarray(dtype=int64)' and 'str'"
     ]
    }
   ],
   "source": [
    "\"\"\"\n",
    "    replacing each class of stay into integers\n",
    "\n",
    "    0  : 0-10\n",
    "    1  : 11-20\n",
    "    2  : 21-30\n",
    "    3  : 31-40\n",
    "    4  : 41-50\n",
    "    5  : 51-60\n",
    "    6  : 61-70\n",
    "    7  : 71-80\n",
    "    8  : 81-90\n",
    "    9  : 91-100\n",
    "    10 : More than 100 Days\n",
    "\"\"\"\n",
    "\n",
    "formatedData['Stay_Days'] = formatedData['Stay_Days'].replace(['0-10','11-20','21-30','31-40','41-50','51-60','61-70','71-80','81-90','91-100','More than 100 Days'],[0,1,2,3,4,5,6,7,8,9,10])\n",
    "\n",
    "formatedData.head()"
   ]
  },
  {
   "cell_type": "code",
   "execution_count": 75,
   "metadata": {},
   "outputs": [
    {
     "output_type": "stream",
     "name": "stdout",
     "text": [
      "<class 'pandas.core.frame.DataFrame'>\nRangeIndex: 318438 entries, 0 to 318437\nData columns (total 16 columns):\nHospital                             318438 non-null int64\nHospital_type                        318438 non-null int64\nHospital_city                        318438 non-null int64\nHospital_region                      318438 non-null int64\nAvailable_Extra_Rooms_in_Hospital    318438 non-null int64\nDepartment                           318438 non-null int64\nWard_Type                            318438 non-null int64\nWard_Facility                        318438 non-null int64\nBed_Grade                            318325 non-null float64\nCity_Code_Patient                    313906 non-null float64\nType of Admission                    318438 non-null int64\nIllness_Severity                     318438 non-null int64\nPatient_Visitors                     318438 non-null int64\nAge                                  318438 non-null object\nAdmission_Deposit                    318438 non-null float64\nStay_Days                            318438 non-null object\ndtypes: float64(3), int64(11), object(2)\nmemory usage: 38.9+ MB\n"
     ]
    }
   ],
   "source": [
    "formatedData.info()"
   ]
  },
  {
   "cell_type": "code",
   "execution_count": null,
   "metadata": {},
   "outputs": [],
   "source": []
  }
 ],
 "metadata": {
  "kernelspec": {
   "name": "python374jvsc74a57bd0786c5b06eff5c0cb733e4a5e8effef860a5cdaa3d5907488cb807932d0674efa",
   "display_name": "Python 3.7.4 64-bit ('base': conda)"
  },
  "language_info": {
   "codemirror_mode": {
    "name": "ipython",
    "version": 3
   },
   "file_extension": ".py",
   "mimetype": "text/x-python",
   "name": "python",
   "nbconvert_exporter": "python",
   "pygments_lexer": "ipython3",
   "version": "3.7.4"
  }
 },
 "nbformat": 4,
 "nbformat_minor": 2
}